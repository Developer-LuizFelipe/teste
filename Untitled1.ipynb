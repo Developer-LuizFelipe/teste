{
 "cells": [
  {
   "cell_type": "code",
   "execution_count": 1,
   "id": "9c2660a8-6528-4dc5-a78f-7238ac126f8b",
   "metadata": {},
   "outputs": [],
   "source": [
    "    from sklearn import preprocessing\n",
    "    import pandas as pd\n",
    "    from sklearn.svm import SVC\n",
    "    import numpy as np\n",
    "    from sklearn.model_selection import train_test_split\n",
    "    from sklearn.neighbors import KNeighborsClassifier\n",
    "    from sklearn.metrics import accuracy_score, f1_score, recall_score, precision_score\n",
    "    from sklearn.neural_network import MLPClassifier\n",
    "    from sklearn import svm \n"
   ]
  },
  {
   "cell_type": "code",
   "execution_count": 2,
   "id": "94d634c2-e560-47a9-be42-2f4b62a7948f",
   "metadata": {},
   "outputs": [],
   "source": [
    "arquivo1 = pd.read_csv(\"neo.csv\")\n",
    "\n",
    "\n",
    "from sklearn import preprocessing\n",
    "import pandas as pd\n",
    "from sklearn.svm import SVC\n",
    "import numpy as np\n",
    "from sklearn.model_selection import train_test_split\n",
    "from sklearn.neighbors import KNeighborsClassifier\n",
    "from sklearn.metrics import accuracy_score, f1_score, recall_score, precision_score\n",
    "from sklearn.neural_network import MLPClassifier\n",
    "from sklearn import svm \n",
    "\n",
    "arquivo1 = pd.read_csv(\"neo.csv\")\n",
    "\n",
    "arquivo1[\"hazardous\"].value_counts()\n",
    "negativo = arquivo1[arquivo1[\"hazardous\"] == False]\n",
    "negativo = negativo.sample(n=8840)\n",
    "negativo[\"classe\"] = 0\n",
    "positivo = arquivo1[arquivo1[\"hazardous\"] == True]\n",
    "positivo = positivo.sample(n=8840)\n",
    "positivo[\"classe\"] = 1\n",
    "\n",
    "atv = pd.concat([positivo, negativo])\n",
    "\n",
    "atv_pronta = atv.sample(n=17680)\n",
    "atv_pronta = atv_pronta.select_dtypes(exclude=['object','bool'])"
   ]
  },
  {
   "cell_type": "code",
   "execution_count": null,
   "id": "4c5e92ea-2c02-4e4a-96fb-9ce93ba5234c",
   "metadata": {},
   "outputs": [],
   "source": []
  },
  {
   "cell_type": "code",
   "execution_count": null,
   "id": "dbce4f56-9555-4fd1-bb33-e8174225d897",
   "metadata": {},
   "outputs": [],
   "source": []
  },
  {
   "cell_type": "code",
   "execution_count": null,
   "id": "79778d31-7e02-4c1b-9a87-0c691d5c345c",
   "metadata": {},
   "outputs": [],
   "source": []
  },
  {
   "cell_type": "code",
   "execution_count": null,
   "id": "fa390be1-6336-48bd-b051-28cf2fb2ef9a",
   "metadata": {},
   "outputs": [],
   "source": [
    "\n",
    "\n"
   ]
  },
  {
   "cell_type": "code",
   "execution_count": 3,
   "id": "042a900f-016a-42d6-a33f-c247b16283f6",
   "metadata": {},
   "outputs": [],
   "source": [
    "array = atv_pronta.values\n",
    "X = array[:,0:6]\n",
    "Y = array[:,6]\n",
    "validation_size=0.20"
   ]
  },
  {
   "cell_type": "code",
   "execution_count": 4,
   "id": "82efe671-ec65-4f89-a2a7-0b56332bb329",
   "metadata": {},
   "outputs": [],
   "source": [
    "min_max_scaler = preprocessing.MinMaxScaler()\n",
    "X = min_max_scaler.fit_transform(X)\n"
   ]
  },
  {
   "cell_type": "code",
   "execution_count": null,
   "id": "e5463544-cf49-4bb3-82a7-3c3a3e5c184f",
   "metadata": {},
   "outputs": [
    {
     "name": "stderr",
     "output_type": "stream",
     "text": [
      "C:\\Users\\IFCE-Lab4\\anaconda3\\lib\\site-packages\\sklearn\\neural_network\\_multilayer_perceptron.py:614: ConvergenceWarning: Stochastic Optimizer: Maximum iterations (200) reached and the optimization hasn't converged yet.\n",
      "  warnings.warn(\n"
     ]
    }
   ],
   "source": [
    "media_acc= 0;\n",
    "media_prec= 0;\n",
    "media_f1= 0;\n",
    "media_recall= 0;\n",
    "y=10;\n",
    "for x in range(y): \n",
    "    X_train, X_validation, Y_train, Y_validation= train_test_split( X, Y, test_size=validation_size)\n",
    "    clf = MLPClassifier()\n",
    "    \n",
    "    clf.fit(X, Y)\n",
    "    \n",
    "    predictions = clf.predict(X_validation)\n",
    "    \n",
    "\n",
    "    \n",
    "    acc = accuracy_score(Y_validation, predictions)\n",
    "    \n",
    "    prec = precision_score(Y_validation, predictions, average=\"macro\")\n",
    "    \n",
    "    f1 = f1_score(Y_validation, predictions, average=\"macro\")\n",
    "    \n",
    "    recall = recall_score(Y_validation, predictions, average=\"macro\")\n",
    "    \n",
    "    media_acc= media_acc + acc\n",
    "    media_prec= media_prec + prec\n",
    "    media_f1= media_f1 + f1\n",
    "    media_recall= media_recall + recall\n",
    "\n",
    "media_acc= media_acc/y ;\n",
    "media_prec= media_prec/y;\n",
    "media_f1=  media_f1/y;\n",
    "media_recall=  media_recall/y;\n",
    "print(\"Media Accuracy:\", media_acc,\"\\nMedia Precision:\",  media_prec,\"\\nMedia recall:\",media_recall, \"\\nMedia f1-score:\", media_f1,\"\\nMedia support:\",  media_recall)"
   ]
  },
  {
   "cell_type": "code",
   "execution_count": null,
   "id": "aafe956e-f5cf-45a4-9a41-d504b6797f0b",
   "metadata": {},
   "outputs": [],
   "source": [
    "media_acc= 0;\n",
    "media_prec= 0;\n",
    "media_f1= 0;\n",
    "media_recall= 0;\n",
    "y=10;\n",
    "for x in range(y): \n",
    "    X_train, X_validation, Y_train, Y_validation= train_test_split( X, Y, test_size=validation_size)\n",
    "    knn = KNeighborsClassifier(n_neighbors=7, metric=\"euclidean\")\n",
    "    \n",
    "    knn.fit(X_train, Y_train)\n",
    "    \n",
    "    predictions = knn.predict(X_validation)\n",
    "    \n",
    "\n",
    "    \n",
    "    acc = accuracy_score(Y_validation, predictions)\n",
    "    \n",
    "    prec = precision_score(Y_validation, predictions, average=\"macro\")\n",
    "    \n",
    "    f1 = f1_score(Y_validation, predictions, average=\"macro\")\n",
    "    \n",
    "    recall = recall_score(Y_validation, predictions, average=\"macro\")\n",
    "    \n",
    "    media_acc= media_acc + acc\n",
    "    media_prec= media_prec + prec\n",
    "    media_f1= media_f1 + f1\n",
    "    media_recall= media_recall + recall\n",
    "\n",
    "media_acc= media_acc/y ;\n",
    "media_prec= media_prec/y;\n",
    "media_f1=  media_f1/y;\n",
    "media_recall=  media_recall/y;\n",
    "print(\"Media Accuracy:\", media_acc,\"\\nMedia Precision:\",  media_prec,\"\\nMedia recall:\",media_recall, \"\\nMedia f1-score:\", media_f1,\"\\nMedia support:\",  media_recall)\n"
   ]
  },
  {
   "cell_type": "code",
   "execution_count": null,
   "id": "b394670e",
   "metadata": {},
   "outputs": [],
   "source": [
    "media_acc= 0;\n",
    "media_prec= 0;\n",
    "media_f1= 0;\n",
    "media_recall= 0;\n",
    "y=10;\n",
    "for x in range(y): \n",
    "    X_train, X_validation, Y_train, Y_validation= train_test_split( X, Y, test_size=validation_size)\n",
    "    clf = svm.SVC(kernel = 'rbf')\n",
    "    clf.fit(X_train, Y_train)\n",
    "\n",
    "    \n",
    "    predictions = clf.predict(X_validation)\n",
    "    \n",
    "\n",
    "    \n",
    "    acc = accuracy_score(Y_validation, predictions)\n",
    "    \n",
    "    prec = precision_score(Y_validation, predictions, average=\"macro\")\n",
    "    \n",
    "    f1 = f1_score(Y_validation, predictions, average=\"macro\")\n",
    "    \n",
    "    recall = recall_score(Y_validation, predictions, average=\"macro\")\n",
    "    \n",
    "    media_acc= media_acc + acc\n",
    "    media_prec= media_prec + prec\n",
    "    media_f1= media_f1 + f1\n",
    "    media_recall= media_recall + recall\n",
    "\n",
    "media_acc= media_acc/y ;\n",
    "media_prec= media_prec/y;\n",
    "media_f1=  media_f1/y;\n",
    "media_recall=  media_recall/y;\n",
    "print(\"Media Accuracy:\", media_acc,\"\\nMedia Precision:\",  media_prec,\"\\nMedia recall:\",media_recall, \"\\nMedia f1-score:\", media_f1,\"\\nMedia support:\",  media_recall)"
   ]
  }
 ],
 "metadata": {
  "kernelspec": {
   "display_name": "Python 3",
   "language": "python",
   "name": "python3"
  },
  "language_info": {
   "codemirror_mode": {
    "name": "ipython",
    "version": 3
   },
   "file_extension": ".py",
   "mimetype": "text/x-python",
   "name": "python",
   "nbconvert_exporter": "python",
   "pygments_lexer": "ipython3",
   "version": "3.8.8"
  }
 },
 "nbformat": 4,
 "nbformat_minor": 5
}
